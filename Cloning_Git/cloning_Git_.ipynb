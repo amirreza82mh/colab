{
  "nbformat": 4,
  "nbformat_minor": 0,
  "metadata": {
    "colab": {
      "provenance": []
    },
    "kernelspec": {
      "name": "python3",
      "display_name": "Python 3"
    },
    "language_info": {
      "name": "python"
    }
  },
  "cells": [
    {
      "cell_type": "code",
      "execution_count": 1,
      "metadata": {
        "id": "_aql4GuB_HP1"
      },
      "outputs": [],
      "source": [
        "#cloning from github\n",
        "!git config --global user.name \"username\"\n",
        "!git config --global user.email \"eamil\"\n",
        "!git config --global user.password \"password\""
      ]
    },
    {
      "cell_type": "code",
      "source": [
        "token = \"token\"\n",
        "username = \"username\"\n",
        "repo = \"repository\""
      ],
      "metadata": {
        "id": "UQ8h6tp-_paB"
      },
      "execution_count": 2,
      "outputs": []
    },
    {
      "cell_type": "code",
      "source": [
        "!git clone http://{token}@github.com/{username}/{repo}"
      ],
      "metadata": {
        "id": "ny2VfOF5ACwd",
        "colab": {
          "base_uri": "https://localhost:8080/"
        },
        "outputId": "6787cafc-4914-434c-9459-f2b5d91d4c85"
      },
      "execution_count": 3,
      "outputs": [
        {
          "output_type": "stream",
          "name": "stdout",
          "text": [
            "Cloning into 'colab'...\n",
            "warning: redirecting to https://github.com/amirreza82mh/colab/\n",
            "remote: Enumerating objects: 13, done.\u001b[K\n",
            "remote: Counting objects: 100% (13/13), done.\u001b[K\n",
            "remote: Compressing objects: 100% (9/9), done.\u001b[K\n",
            "remote: Total 13 (delta 2), reused 13 (delta 2), pack-reused 0\u001b[K\n",
            "Unpacking objects: 100% (13/13), 5.82 KiB | 1.45 MiB/s, done.\n"
          ]
        }
      ]
    }
  ]
}
