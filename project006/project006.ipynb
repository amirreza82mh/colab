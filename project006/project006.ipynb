{
  "nbformat": 4,
  "nbformat_minor": 0,
  "metadata": {
    "colab": {
      "provenance": []
    },
    "kernelspec": {
      "name": "python3",
      "display_name": "Python 3"
    },
    "language_info": {
      "name": "python"
    }
  },
  "cells": [
    {
      "cell_type": "markdown",
      "source": [
        "# **String :)**"
      ],
      "metadata": {
        "id": "W4l2vPF2eQCO"
      }
    },
    {
      "cell_type": "code",
      "execution_count": null,
      "metadata": {
        "id": "3X3psF40eGun"
      },
      "outputs": [],
      "source": [
        "s = 'abcdef'\n",
        "print(s[3])       #d\n",
        "print(s[1 : 4])   #bcd\n",
        "print(s[1 : -1])  #bcde\n",
        "print(s[ : 4])    #abcd \n",
        "print(s[2 : ])    #cdef\n",
        "print(s[ :: -1])   #fedcba"
      ]
    },
    {
      "cell_type": "code",
      "source": [
        "print(ord('a'))\n",
        "print(chr(65))\n",
        "\n",
        "print('\\n====================\\n')\n",
        "\n",
        "s = 'amirrezamehrabani'\n",
        "print(s.islower())\n",
        "print(s.isupper())\n",
        "print('a' in s)\n",
        "print('o' not in s)\n",
        "print(s.isalpha())\n",
        "print(s.isalnum())\n",
        "print(s.isdigit())\n",
        "\n",
        "print('\\n====================\\n')\n",
        "\n",
        "s = 'amirreza82'\n",
        "print(s.isalnum())\n",
        "print(s.isalpha())\n",
        "print(s.isdigit())\n",
        "\n",
        "print('\\n====================\\n')\n",
        "\n",
        "s = '123456789'\n",
        "print(s.isalnum())\n",
        "print(s.isalpha())\n",
        "print(s.isdigit())\n",
        "\n",
        "print('\\n====================\\n')\n",
        "\n",
        "s = '\\t'\n",
        "print(s.isspace())\n",
        "\n",
        "#example\n",
        "s = '1a2bc3def4'\n",
        "k = 0\n",
        "for ch in s:\n",
        "  if ch.isdigit() == True:\n",
        "    k += int(ch)\n",
        "\n",
        "print('k = %i' %k)"
      ],
      "metadata": {
        "id": "kbiZbvL9fUqM"
      },
      "execution_count": null,
      "outputs": []
    }
  ]
}